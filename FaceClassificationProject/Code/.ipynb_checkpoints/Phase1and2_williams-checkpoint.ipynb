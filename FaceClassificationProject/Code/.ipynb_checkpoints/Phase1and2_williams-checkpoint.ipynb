{
 "cells": [
  {
   "cell_type": "markdown",
   "metadata": {},
   "source": [
    "## Phase 1 and Phase 2 Classification metrics for Serena Williams"
   ]
  },
  {
   "cell_type": "code",
   "execution_count": 1,
   "metadata": {},
   "outputs": [],
   "source": [
    "import pandas as pd\n",
    "import numpy as np\n",
    "from sklearn.neighbors import KNeighborsClassifier\n",
    "from sklearn.model_selection import cross_validate, StratifiedKFold\n",
    "from sklearn.svm import SVC\n",
    "from sklearn.decomposition import PCA"
   ]
  },
  {
   "cell_type": "code",
   "execution_count": 2,
   "metadata": {},
   "outputs": [],
   "source": [
    "X = pd.read_csv(\"X.csv\", sep=' ', header=None, dtype=float)\n",
    "X = X.values"
   ]
  },
  {
   "cell_type": "code",
   "execution_count": 3,
   "metadata": {},
   "outputs": [],
   "source": [
    "y = pd.read_csv(\"y_bush_vs_others.csv\", header=None)\n",
    "y_bush = y.values.ravel()\n",
    "y = pd.read_csv(\"y_williams_vs_others.csv\", header=None)\n",
    "y_williams = y.values.ravel()"
   ]
  },
  {
   "cell_type": "code",
   "execution_count": 4,
   "metadata": {},
   "outputs": [
    {
     "data": {
      "text/plain": [
       "(13233,)"
      ]
     },
     "execution_count": 4,
     "metadata": {},
     "output_type": "execute_result"
    }
   ],
   "source": [
    "y_bush.shape\n",
    "y_williams.shape"
   ]
  },
  {
   "cell_type": "markdown",
   "metadata": {},
   "source": [
    "## Adding Prinicipal component analysis to reduce the dimensionality of the data"
   ]
  },
  {
   "cell_type": "code",
   "execution_count": 26,
   "metadata": {},
   "outputs": [],
   "source": [
    "pca = PCA(n_components=1500)\n",
    "# pca.fit(X)\n",
    "# X1 = pca.transform(X)\n",
    "X1 = pca.fit_transform(X)"
   ]
  },
  {
   "cell_type": "code",
   "execution_count": 27,
   "metadata": {},
   "outputs": [
    {
     "data": {
      "text/plain": [
       "(13233, 1500)"
      ]
     },
     "execution_count": 27,
     "metadata": {},
     "output_type": "execute_result"
    }
   ],
   "source": [
    "X1.shape"
   ]
  },
  {
   "cell_type": "markdown",
   "metadata": {},
   "source": [
    "### Calculating precision,recall and F1 for KNN classifier"
   ]
  },
  {
   "cell_type": "code",
   "execution_count": 16,
   "metadata": {},
   "outputs": [
    {
     "name": "stdout",
     "output_type": "stream",
     "text": [
      "KNN for williams, PCA = 60\n",
      "n_neighbours =  1\n",
      "{'fit_time': array([0.05685401, 0.06379676, 0.06083679]), 'score_time': array([18.28008723, 18.50950742, 18.43869638]), 'test_precision': array([0.42857143, 0.5       , 0.375     ]), 'test_recall': array([0.16666667, 0.23529412, 0.17647059]), 'test_f1': array([0.24, 0.32, 0.24])}\n",
      "n_neighbours =  3\n",
      "{'fit_time': array([0.05584979, 0.05884218, 0.06183505]), 'score_time': array([19.91475248, 19.8718946 , 19.9586606 ]), 'test_precision': array([1., 1., 0.]), 'test_recall': array([0.11111111, 0.05882353, 0.        ]), 'test_f1': array([0.2       , 0.11111111, 0.        ])}\n",
      "n_neighbours =  5\n",
      "{'fit_time': array([0.05780792, 0.05883455, 0.06279087]), 'score_time': array([21.12432575, 21.25992036, 21.23303199]), 'test_precision': array([0., 0., 0.]), 'test_recall': array([0., 0., 0.]), 'test_f1': array([0., 0., 0.])}\n"
     ]
    }
   ],
   "source": [
    "print(\"KNN for williams, PCA = 60\")\n",
    "for i in (1,3,5):\n",
    "    knn = KNeighborsClassifier(n_neighbors=i)\n",
    "    print(\"n_neighbours = \",i)\n",
    "    st_cv_results = cross_validate(knn,X1,y_williams,cv=StratifiedKFold(n_splits=3,shuffle=True,random_state=3243),scoring=('precision','recall','f1'),return_train_score=False,n_jobs=-1)\n",
    "    print(st_cv_results)"
   ]
  },
  {
   "cell_type": "markdown",
   "metadata": {},
   "source": [
    "### Calculating precision,recall and F1 for SVC classifier"
   ]
  },
  {
   "cell_type": "code",
   "execution_count": 29,
   "metadata": {},
   "outputs": [
    {
     "name": "stdout",
     "output_type": "stream",
     "text": [
      "williams linear pca = 1550\n",
      "\n",
      "10^  -5\n",
      "{'fit_time': array([2.04453111, 2.03854728, 1.95876169]), 'score_time': array([1.46408558, 1.48702383, 1.47508645]), 'test_precision': array([0., 0., 0.]), 'test_recall': array([0., 0., 0.]), 'test_f1': array([0., 0., 0.])}\n",
      "10^  -4\n",
      "{'fit_time': array([2.00663185, 1.91487837, 1.8091619 ]), 'score_time': array([1.54586744, 1.58476233, 1.58177042]), 'test_precision': array([0., 0., 0.]), 'test_recall': array([0., 0., 0.]), 'test_f1': array([0., 0., 0.])}\n",
      "10^  -3\n",
      "{'fit_time': array([1.76029372, 1.75630355, 1.68050647]), 'score_time': array([1.45211434, 1.48502851, 1.48104048]), 'test_precision': array([0., 0., 0.]), 'test_recall': array([0., 0., 0.]), 'test_f1': array([0., 0., 0.])}\n",
      "10^  -2\n",
      "{'fit_time': array([1.78818583, 1.81814051, 1.73236823]), 'score_time': array([1.62266278, 1.78123474, 1.77425408]), 'test_precision': array([0., 0., 0.]), 'test_recall': array([0., 0., 0.]), 'test_f1': array([0., 0., 0.])}\n",
      "10^  -1\n",
      "{'fit_time': array([4.27955556, 4.61067367, 4.14288735]), 'score_time': array([4.49498248, 4.98267603, 4.51692176]), 'test_precision': array([0., 0., 0.]), 'test_recall': array([0., 0., 0.]), 'test_f1': array([0., 0., 0.])}\n",
      "10^  0\n",
      "{'fit_time': array([13.87589598, 13.84501028, 12.33302355]), 'score_time': array([18.47659612, 18.1195178 , 15.8845253 ]), 'test_precision': array([0., 0., 0.]), 'test_recall': array([0., 0., 0.]), 'test_f1': array([0., 0., 0.])}\n",
      "10^  1\n",
      "{'fit_time': array([20.94057226, 21.46716189, 18.24877071]), 'score_time': array([24.77874351, 24.4616425 , 21.96526527]), 'test_precision': array([0., 0., 0.]), 'test_recall': array([0., 0., 0.]), 'test_f1': array([0., 0., 0.])}\n",
      "10^  2\n",
      "{'fit_time': array([19.83197045, 20.11820626, 17.36357188]), 'score_time': array([23.70561266, 23.67768669, 20.93601751]), 'test_precision': array([0., 0., 0.]), 'test_recall': array([0., 0., 0.]), 'test_f1': array([0., 0., 0.])}\n",
      "10^  3\n",
      "{'fit_time': array([28.9331243 , 29.8030262 , 24.35081553]), 'score_time': array([36.96829677, 35.87399483, 32.303334  ]), 'test_precision': array([1. , 1. , 0.4]), 'test_recall': array([0.05555556, 0.05882353, 0.11764706]), 'test_f1': array([0.10526316, 0.11111111, 0.18181818])}\n",
      "10^  4\n",
      "{'fit_time': array([32.37043738, 34.2054987 , 27.24374509]), 'score_time': array([37.750772  , 39.50511312, 31.35228348]), 'test_precision': array([1. , 1. , 0.4]), 'test_recall': array([0.05555556, 0.05882353, 0.11764706]), 'test_f1': array([0.10526316, 0.11111111, 0.18181818])}\n"
     ]
    }
   ],
   "source": [
    "print(\"williams linear pca = 1550\\n\")\n",
    "for i in range(10):\n",
    "    svc = SVC(C = 10**(i-5),kernel='poly',degree = 3)\n",
    "    print(\"10^ \",i-5)\n",
    "    svc_st_cv_results = cross_validate(svc,X1,y_williams,cv=StratifiedKFold(n_splits=3,shuffle=True,random_state=3243),scoring=('precision','recall','f1'),return_train_score=False,n_jobs=-1)\n",
    "    print(svc_st_cv_results)"
   ]
  },
  {
   "cell_type": "code",
   "execution_count": null,
   "metadata": {},
   "outputs": [],
   "source": []
  }
 ],
 "metadata": {
  "kernelspec": {
   "display_name": "Python 3",
   "language": "python",
   "name": "python3"
  },
  "language_info": {
   "codemirror_mode": {
    "name": "ipython",
    "version": 3
   },
   "file_extension": ".py",
   "mimetype": "text/x-python",
   "name": "python",
   "nbconvert_exporter": "python",
   "pygments_lexer": "ipython3",
   "version": "3.7.1"
  }
 },
 "nbformat": 4,
 "nbformat_minor": 2
}
