{
 "cells": [
  {
   "cell_type": "markdown",
   "metadata": {},
   "source": [
    "### George Bush\n",
    "## Phase 3 - Implementing convolutional neural network\n",
    "## Phase 4 - Use transfer learning to use pre-trained weights as initializations"
   ]
  },
  {
   "cell_type": "code",
   "execution_count": 1,
   "metadata": {},
   "outputs": [
    {
     "name": "stderr",
     "output_type": "stream",
     "text": [
      "Using TensorFlow backend.\n"
     ]
    }
   ],
   "source": [
    "import pandas as pd\n",
    "import numpy as np\n",
    "import matplotlib.pyplot as plt\n",
    "import tensorflow as tf\n",
    "import keras\n",
    "\n",
    "\n",
    "from keras.models import Sequential\n",
    "from keras.layers import Dense, Conv2D, Flatten, MaxPooling2D\n",
    "\n",
    "from sklearn.model_selection import train_test_split\n",
    "\n",
    "from sklearn.metrics import confusion_matrix, f1_score, precision_score, recall_score\n",
    "from keras.models import load_model"
   ]
  },
  {
   "cell_type": "code",
   "execution_count": 2,
   "metadata": {},
   "outputs": [
    {
     "name": "stdout",
     "output_type": "stream",
     "text": [
      "(13233, 4096)\n"
     ]
    }
   ],
   "source": [
    "X = pd.read_csv(\"X.csv\", sep=' ', header=None, dtype=float)\n",
    "X = X.values\n",
    "print(X.shape)"
   ]
  },
  {
   "cell_type": "code",
   "execution_count": 3,
   "metadata": {},
   "outputs": [],
   "source": [
    "#reshaping the array\n",
    "len(X)\n",
    "X1 = np.zeros((13233,64,64))\n",
    "for i in range(len(X)):\n",
    "    X1[i] = X[i].reshape(64,64)"
   ]
  },
  {
   "cell_type": "code",
   "execution_count": 4,
   "metadata": {},
   "outputs": [],
   "source": [
    "y = pd.read_csv(\"y_bush_vs_others.csv\", header=None)\n",
    "y_bush = y.values.ravel()\n",
    "y = pd.read_csv(\"y_williams_vs_others.csv\", header=None)\n",
    "y_williams = y.values.ravel()"
   ]
  },
  {
   "cell_type": "code",
   "execution_count": 5,
   "metadata": {},
   "outputs": [
    {
     "data": {
      "text/plain": [
       "52"
      ]
     },
     "execution_count": 5,
     "metadata": {},
     "output_type": "execute_result"
    }
   ],
   "source": [
    "np.sum(y_williams)"
   ]
  },
  {
   "cell_type": "code",
   "execution_count": 6,
   "metadata": {},
   "outputs": [
    {
     "name": "stdout",
     "output_type": "stream",
     "text": [
      "(13233, 64, 64) (13233,) (13233,)\n"
     ]
    }
   ],
   "source": [
    "print(X1.shape,y_bush.shape,y_williams.shape)"
   ]
  },
  {
   "cell_type": "code",
   "execution_count": 7,
   "metadata": {},
   "outputs": [
    {
     "name": "stdout",
     "output_type": "stream",
     "text": [
      "(8822, 64, 64, 1) (8822,) (4411, 64, 64, 1)\n"
     ]
    }
   ],
   "source": [
    "seed1 = 3243\n",
    "X_train, X_test, y_train, y_test = train_test_split(X1, y_bush, test_size = 1./3, random_state = seed1, shuffle = True,stratify = y)\n",
    "X_train = X_train.reshape(8822,64,64,1)\n",
    "X_test = X_test.reshape(4411,64,64,1)\n",
    "print(X_train.shape,y_train.shape,X_test.shape)\n",
    "# X_test = X_test.reshape(10000,28,28,1)"
   ]
  },
  {
   "cell_type": "code",
   "execution_count": 8,
   "metadata": {},
   "outputs": [
    {
     "data": {
      "text/plain": [
       "(4411,)"
      ]
     },
     "execution_count": 8,
     "metadata": {},
     "output_type": "execute_result"
    }
   ],
   "source": [
    "y_test.shape"
   ]
  },
  {
   "cell_type": "code",
   "execution_count": 82,
   "metadata": {},
   "outputs": [],
   "source": [
    "#Keras model \n",
    "model = Sequential()\n",
    "model.add(Conv2D(32, kernel_size=(5, 5), strides=(1, 1),\n",
    "                 activation='relu',\n",
    "                 input_shape=(64, 64, 1)))\n",
    "model.add(MaxPooling2D(pool_size=(2, 2), strides=(2, 2)))\n",
    "model.add(Conv2D(64, (5, 5), activation='relu'))\n",
    "model.add(MaxPooling2D(pool_size=(2, 2)))\n",
    "model.add(Flatten())\n",
    "model.add(Dense(128, activation='relu'))\n",
    "model.add(Dense(1, activation='sigmoid'))"
   ]
  },
  {
   "cell_type": "markdown",
   "metadata": {},
   "source": [
    "## Loading the pre trained model"
   ]
  },
  {
   "cell_type": "code",
   "execution_count": 9,
   "metadata": {},
   "outputs": [],
   "source": [
    "model = load_model('tf_model.model')"
   ]
  },
  {
   "cell_type": "code",
   "execution_count": 10,
   "metadata": {},
   "outputs": [
    {
     "name": "stdout",
     "output_type": "stream",
     "text": [
      "Epoch 1/25\n",
      "8822/8822 [==============================] - 3s 329us/step - loss: 0.1897 - acc: 0.9557\n",
      "Epoch 2/25\n",
      "8822/8822 [==============================] - 2s 197us/step - loss: 0.1552 - acc: 0.9584\n",
      "Epoch 3/25\n",
      "8822/8822 [==============================] - 2s 200us/step - loss: 0.1438 - acc: 0.9584\n",
      "Epoch 4/25\n",
      "8822/8822 [==============================] - 2s 197us/step - loss: 0.1321 - acc: 0.9583\n",
      "Epoch 5/25\n",
      "8822/8822 [==============================] - 2s 196us/step - loss: 0.1177 - acc: 0.9596\n",
      "Epoch 6/25\n",
      "8822/8822 [==============================] - 2s 195us/step - loss: 0.1063 - acc: 0.9632\n",
      "Epoch 7/25\n",
      "8822/8822 [==============================] - 2s 196us/step - loss: 0.0929 - acc: 0.9688\n",
      "Epoch 8/25\n",
      "8822/8822 [==============================] - 2s 204us/step - loss: 0.0769 - acc: 0.9746\n",
      "Epoch 9/25\n",
      "8822/8822 [==============================] - 2s 199us/step - loss: 0.0659 - acc: 0.9765\n",
      "Epoch 10/25\n",
      "8822/8822 [==============================] - 2s 195us/step - loss: 0.0545 - acc: 0.9820\n",
      "Epoch 11/25\n",
      "8822/8822 [==============================] - 2s 196us/step - loss: 0.0467 - acc: 0.9837\n",
      "Epoch 12/25\n",
      "8822/8822 [==============================] - 2s 196us/step - loss: 0.0397 - acc: 0.9850\n",
      "Epoch 13/25\n",
      "8822/8822 [==============================] - 2s 198us/step - loss: 0.0326 - acc: 0.9879\n",
      "Epoch 14/25\n",
      "8822/8822 [==============================] - 2s 199us/step - loss: 0.0322 - acc: 0.9890\n",
      "Epoch 15/25\n",
      "8822/8822 [==============================] - 2s 197us/step - loss: 0.0277 - acc: 0.9917\n",
      "Epoch 16/25\n",
      "8822/8822 [==============================] - 2s 197us/step - loss: 0.0246 - acc: 0.9916\n",
      "Epoch 17/25\n",
      "8822/8822 [==============================] - 2s 199us/step - loss: 0.0199 - acc: 0.9925\n",
      "Epoch 18/25\n",
      "8822/8822 [==============================] - 2s 206us/step - loss: 0.0176 - acc: 0.9942\n",
      "Epoch 19/25\n",
      "8822/8822 [==============================] - 2s 202us/step - loss: 0.0267 - acc: 0.9909\n",
      "Epoch 20/25\n",
      "8822/8822 [==============================] - 2s 204us/step - loss: 0.0163 - acc: 0.9942\n",
      "Epoch 21/25\n",
      "8822/8822 [==============================] - 2s 204us/step - loss: 0.0144 - acc: 0.9955\n",
      "Epoch 22/25\n",
      "8822/8822 [==============================] - 2s 206us/step - loss: 0.0140 - acc: 0.9944ETA\n",
      "Epoch 23/25\n",
      "8822/8822 [==============================] - 2s 211us/step - loss: 0.0141 - acc: 0.9951\n",
      "Epoch 24/25\n",
      "8822/8822 [==============================] - 2s 211us/step - loss: 0.0119 - acc: 0.9964\n",
      "Epoch 25/25\n",
      "8822/8822 [==============================] - 2s 220us/step - loss: 0.0062 - acc: 0.9975\n",
      "4411/4411 [==============================] - 0s 111us/step\n"
     ]
    }
   ],
   "source": [
    "# model.compile(loss='binary_crossentropy', optimizer='adam', metrics=['accuracy'])\n",
    "model.fit(X_train, y_train, epochs=25)\n",
    "\n",
    "eval_metrics = model.evaluate(X_test, y_test)"
   ]
  },
  {
   "cell_type": "code",
   "execution_count": 11,
   "metadata": {},
   "outputs": [
    {
     "name": "stdout",
     "output_type": "stream",
     "text": [
      "[0.04552285264771262, 0.9882112899569259]\n"
     ]
    }
   ],
   "source": [
    "print(eval_metrics)"
   ]
  },
  {
   "cell_type": "code",
   "execution_count": 12,
   "metadata": {},
   "outputs": [
    {
     "data": {
      "text/plain": [
       "array([[1.8496105e-07]], dtype=float32)"
      ]
     },
     "execution_count": 12,
     "metadata": {},
     "output_type": "execute_result"
    }
   ],
   "source": [
    "model.predict(X1[0].reshape(1,64,64,1))"
   ]
  },
  {
   "cell_type": "code",
   "execution_count": 13,
   "metadata": {},
   "outputs": [
    {
     "name": "stdout",
     "output_type": "stream",
     "text": [
      "_________________________________________________________________\n",
      "Layer (type)                 Output Shape              Param #   \n",
      "=================================================================\n",
      "conv2d_5 (Conv2D)            (None, 64, 64, 8)         80        \n",
      "_________________________________________________________________\n",
      "max_pooling2d_5 (MaxPooling2 (None, 32, 32, 8)         0         \n",
      "_________________________________________________________________\n",
      "conv2d_6 (Conv2D)            (None, 32, 32, 16)        1168      \n",
      "_________________________________________________________________\n",
      "max_pooling2d_6 (MaxPooling2 (None, 16, 16, 16)        0         \n",
      "_________________________________________________________________\n",
      "conv2d_7 (Conv2D)            (None, 16, 16, 32)        4640      \n",
      "_________________________________________________________________\n",
      "max_pooling2d_7 (MaxPooling2 (None, 8, 8, 32)          0         \n",
      "_________________________________________________________________\n",
      "conv2d_8 (Conv2D)            (None, 8, 8, 64)          18496     \n",
      "_________________________________________________________________\n",
      "max_pooling2d_8 (MaxPooling2 (None, 4, 4, 64)          0         \n",
      "_________________________________________________________________\n",
      "flatten_2 (Flatten)          (None, 1024)              0         \n",
      "_________________________________________________________________\n",
      "dropout_2 (Dropout)          (None, 1024)              0         \n",
      "_________________________________________________________________\n",
      "dense_3 (Dense)              (None, 100)               102500    \n",
      "_________________________________________________________________\n",
      "dense_4 (Dense)              (None, 1)                 101       \n",
      "=================================================================\n",
      "Total params: 126,985\n",
      "Trainable params: 126,985\n",
      "Non-trainable params: 0\n",
      "_________________________________________________________________\n"
     ]
    }
   ],
   "source": [
    "model.summary()"
   ]
  },
  {
   "cell_type": "code",
   "execution_count": 14,
   "metadata": {},
   "outputs": [
    {
     "name": "stdout",
     "output_type": "stream",
     "text": [
      "[[0]\n",
      " [0]\n",
      " [0]\n",
      " ...\n",
      " [0]\n",
      " [0]\n",
      " [0]]\n"
     ]
    }
   ],
   "source": [
    "pred = model.predict_classes(X_test.reshape(4411,64,64,1))\n",
    "print(pred)"
   ]
  },
  {
   "cell_type": "code",
   "execution_count": 15,
   "metadata": {},
   "outputs": [],
   "source": [
    "pred_train = model.predict_classes(X_train.reshape(8822,64,64,1))"
   ]
  },
  {
   "cell_type": "code",
   "execution_count": 16,
   "metadata": {},
   "outputs": [
    {
     "name": "stdout",
     "output_type": "stream",
     "text": [
      "129 163\n",
      "365 367\n"
     ]
    }
   ],
   "source": [
    "print(np.sum(pred),np.sum(y_test))\n",
    "print(np.sum(pred_train),np.sum(y_train))"
   ]
  },
  {
   "cell_type": "code",
   "execution_count": 17,
   "metadata": {},
   "outputs": [
    {
     "name": "stdout",
     "output_type": "stream",
     "text": [
      "0.821917808219178 0.7361963190184049 0.9302325581395349\n"
     ]
    }
   ],
   "source": [
    "#Test F1\n",
    "\n",
    "val_f1 = f1_score(y_test, pred)\n",
    "val_recall = recall_score(y_test, pred)\n",
    "val_precision = precision_score(y_test, pred)\n",
    "print(val_f1,val_recall,val_precision)"
   ]
  },
  {
   "cell_type": "code",
   "execution_count": 20,
   "metadata": {},
   "outputs": [
    {
     "data": {
      "text/plain": [
       "0.821917808219178"
      ]
     },
     "execution_count": 20,
     "metadata": {},
     "output_type": "execute_result"
    }
   ],
   "source": [
    "f1_score(y_test, pred, pos_label=1,average='binary')"
   ]
  },
  {
   "cell_type": "code",
   "execution_count": 18,
   "metadata": {},
   "outputs": [
    {
     "name": "stdout",
     "output_type": "stream",
     "text": [
      "0.9945355191256832 0.9918256130790191 0.9972602739726028\n"
     ]
    }
   ],
   "source": [
    "#Train f1\n",
    "val_f1 = f1_score(y_train, pred_train)\n",
    "val_recall = recall_score(y_train, pred_train)\n",
    "val_precision = precision_score(y_train, pred_train)\n",
    "print(val_f1,val_recall,val_precision)"
   ]
  },
  {
   "cell_type": "code",
   "execution_count": 19,
   "metadata": {},
   "outputs": [
    {
     "data": {
      "text/plain": [
       "[<keras.layers.convolutional.Conv2D at 0x1fa20b02dd8>,\n",
       " <keras.layers.pooling.MaxPooling2D at 0x1fa2db67320>,\n",
       " <keras.layers.convolutional.Conv2D at 0x1fa2db67080>,\n",
       " <keras.layers.pooling.MaxPooling2D at 0x1fa211f8eb8>,\n",
       " <keras.layers.convolutional.Conv2D at 0x1fa2db67198>,\n",
       " <keras.layers.pooling.MaxPooling2D at 0x1fa211f8b00>,\n",
       " <keras.layers.convolutional.Conv2D at 0x1fa20ace080>,\n",
       " <keras.layers.pooling.MaxPooling2D at 0x1fa20aa7cf8>,\n",
       " <keras.layers.core.Flatten at 0x1fa20a89a20>,\n",
       " <keras.layers.core.Dropout at 0x1fa20af6710>,\n",
       " <keras.layers.core.Dense at 0x1fa20af66d8>,\n",
       " <keras.layers.core.Dense at 0x1fa3324fba8>]"
      ]
     },
     "execution_count": 19,
     "metadata": {},
     "output_type": "execute_result"
    }
   ],
   "source": [
    "model.layers"
   ]
  },
  {
   "cell_type": "code",
   "execution_count": 21,
   "metadata": {},
   "outputs": [],
   "source": [
    "model.save(\"bush.model\")"
   ]
  },
  {
   "cell_type": "code",
   "execution_count": null,
   "metadata": {},
   "outputs": [],
   "source": []
  },
  {
   "cell_type": "code",
   "execution_count": 54,
   "metadata": {},
   "outputs": [],
   "source": [
    "del model"
   ]
  }
 ],
 "metadata": {
  "kernelspec": {
   "display_name": "Python 3",
   "language": "python",
   "name": "python3"
  },
  "language_info": {
   "codemirror_mode": {
    "name": "ipython",
    "version": 3
   },
   "file_extension": ".py",
   "mimetype": "text/x-python",
   "name": "python",
   "nbconvert_exporter": "python",
   "pygments_lexer": "ipython3",
   "version": "3.7.1"
  }
 },
 "nbformat": 4,
 "nbformat_minor": 2
}
