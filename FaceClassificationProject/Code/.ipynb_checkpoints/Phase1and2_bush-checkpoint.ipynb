{
 "cells": [
  {
   "cell_type": "markdown",
   "metadata": {},
   "source": [
    "## Phase 1 and Phase 2 Classification metrics for George Bush"
   ]
  },
  {
   "cell_type": "code",
   "execution_count": 1,
   "metadata": {},
   "outputs": [],
   "source": [
    "import pandas as pd\n",
    "import numpy as np\n",
    "from sklearn.neighbors import KNeighborsClassifier\n",
    "from sklearn.model_selection import cross_validate, StratifiedKFold\n",
    "from sklearn.svm import SVC\n",
    "from sklearn.decomposition import PCA"
   ]
  },
  {
   "cell_type": "code",
   "execution_count": 2,
   "metadata": {},
   "outputs": [],
   "source": [
    "X = pd.read_csv(\"X.csv\", sep=' ', header=None, dtype=float)\n",
    "X = X.values"
   ]
  },
  {
   "cell_type": "code",
   "execution_count": 3,
   "metadata": {},
   "outputs": [],
   "source": [
    "y = pd.read_csv(\"y_bush_vs_others.csv\", header=None)\n",
    "y_bush = y.values.ravel()\n",
    "y = pd.read_csv(\"y_williams_vs_others.csv\", header=None)\n",
    "y_williams = y.values.ravel()"
   ]
  },
  {
   "cell_type": "code",
   "execution_count": 4,
   "metadata": {},
   "outputs": [
    {
     "data": {
      "text/plain": [
       "(13233,)"
      ]
     },
     "execution_count": 4,
     "metadata": {},
     "output_type": "execute_result"
    }
   ],
   "source": [
    "y_bush.shape\n",
    "y_williams.shape"
   ]
  },
  {
   "cell_type": "markdown",
   "metadata": {},
   "source": [
    "## Adding Prinicipal component analysis to reduce the dimensionality of the data"
   ]
  },
  {
   "cell_type": "code",
   "execution_count": 23,
   "metadata": {},
   "outputs": [],
   "source": [
    "pca = PCA(n_components=1550)\n",
    "pca.fit(X)\n",
    "X1 = pca.transform(X)"
   ]
  },
  {
   "cell_type": "code",
   "execution_count": 24,
   "metadata": {},
   "outputs": [
    {
     "data": {
      "text/plain": [
       "(13233, 1550)"
      ]
     },
     "execution_count": 24,
     "metadata": {},
     "output_type": "execute_result"
    }
   ],
   "source": [
    "X1.shape"
   ]
  },
  {
   "cell_type": "code",
   "execution_count": 7,
   "metadata": {},
   "outputs": [
    {
     "data": {
      "text/plain": [
       "530"
      ]
     },
     "execution_count": 7,
     "metadata": {},
     "output_type": "execute_result"
    }
   ],
   "source": [
    "#Positive instances of bush in the array \n",
    "#For binary classification the others are 0 and data points of bush will have a value of 1\n",
    "#hence the sum of the array is the number of instances\n",
    "np.sum(y_bush)"
   ]
  },
  {
   "cell_type": "code",
   "execution_count": 8,
   "metadata": {},
   "outputs": [
    {
     "data": {
      "text/plain": [
       "52"
      ]
     },
     "execution_count": 8,
     "metadata": {},
     "output_type": "execute_result"
    }
   ],
   "source": [
    "#positive instances for serena williams\n",
    "np.sum(y_williams)"
   ]
  },
  {
   "cell_type": "markdown",
   "metadata": {},
   "source": [
    "### Calculating precision,recall and F1 for KNN classifier"
   ]
  },
  {
   "cell_type": "code",
   "execution_count": 21,
   "metadata": {},
   "outputs": [
    {
     "name": "stdout",
     "output_type": "stream",
     "text": [
      "KNN for williams, pca = 43\n",
      "n_neighbours =  1\n",
      "{'fit_time': array([0.02793121, 0.02792668, 0.03391027]), 'score_time': array([6.51858401, 6.52455378, 6.49765015]), 'test_precision': array([0.6       , 0.4       , 0.44444444]), 'test_recall': array([0.16666667, 0.23529412, 0.23529412]), 'test_f1': array([0.26086957, 0.2962963 , 0.30769231])}\n",
      "n_neighbours =  3\n",
      "{'fit_time': array([0.02693892, 0.02793217, 0.04288626]), 'score_time': array([6.9912653 , 7.16685128, 7.1000464 ]), 'test_precision': array([0., 0., 1.]), 'test_recall': array([0.        , 0.        , 0.11764706]), 'test_f1': array([0.        , 0.        , 0.21052632])}\n",
      "n_neighbours =  5\n",
      "{'fit_time': array([0.02692938, 0.02693295, 0.02789092]), 'score_time': array([7.22365451, 7.30642533, 7.35157228]), 'test_precision': array([0., 0., 0.]), 'test_recall': array([0., 0., 0.]), 'test_f1': array([0., 0., 0.])}\n"
     ]
    }
   ],
   "source": [
    "print(\"KNN for williams, pca = 43\")\n",
    "for i in (1,3,5):\n",
    "    knn = KNeighborsClassifier(n_neighbors=i)\n",
    "    print(\"n_neighbours = \",i)\n",
    "    st_cv_results = cross_validate(knn,X1,y_williams,cv=StratifiedKFold(n_splits=3,shuffle=True,random_state=3243),scoring=('precision','recall','f1'),return_train_score=False,n_jobs=-1)\n",
    "    print(st_cv_results)"
   ]
  },
  {
   "cell_type": "code",
   "execution_count": 88,
   "metadata": {},
   "outputs": [
    {
     "data": {
      "text/plain": [
       "{'fit_time': array([0.03091717, 0.03487277, 0.03491974]),\n",
       " 'score_time': array([8.60801506, 8.54220819, 8.49726486]),\n",
       " 'test_precision': array([0.        , 0.22727273, 0.35294118]),\n",
       " 'test_recall': array([0.        , 0.02824859, 0.03409091]),\n",
       " 'test_f1': array([0.        , 0.05025126, 0.06217617])}"
      ]
     },
     "execution_count": 88,
     "metadata": {},
     "output_type": "execute_result"
    }
   ],
   "source": [
    "st_cv_results"
   ]
  },
  {
   "cell_type": "markdown",
   "metadata": {},
   "source": [
    "### Calculating precision,recall and F1 for SVC classifier"
   ]
  },
  {
   "cell_type": "code",
   "execution_count": 14,
   "metadata": {},
   "outputs": [],
   "source": [
    "#SVM \n",
    "svc = SVC()\n"
   ]
  },
  {
   "cell_type": "code",
   "execution_count": 25,
   "metadata": {},
   "outputs": [
    {
     "name": "stdout",
     "output_type": "stream",
     "text": [
      "Bush rbf pca = 1500\n",
      "\n",
      "10^  -5\n",
      "{'fit_time': array([11.34465408, 11.32175469, 11.3746233 ]), 'score_time': array([15.88549042, 15.88055468, 15.90148926]), 'test_precision': array([0., 0., 0.]), 'test_recall': array([0., 0., 0.]), 'test_f1': array([0., 0., 0.])}\n",
      "10^  -4\n",
      "{'fit_time': array([19.3592453 , 19.52077055, 19.80801821]), 'score_time': array([24.09256864, 24.04570436, 23.7694416 ]), 'test_precision': array([0., 0., 0.]), 'test_recall': array([0., 0., 0.]), 'test_f1': array([0., 0., 0.])}\n",
      "10^  -3\n",
      "{'fit_time': array([15.12555408, 15.14450502, 15.16744184]), 'score_time': array([20.4702642 , 20.45430589, 20.36554313]), 'test_precision': array([0., 0., 0.]), 'test_recall': array([0., 0., 0.]), 'test_f1': array([0., 0., 0.])}\n",
      "10^  -2\n",
      "{'fit_time': array([14.13919711, 14.18008327, 14.232939  ]), 'score_time': array([21.47357702, 21.41473722, 21.42171836]), 'test_precision': array([0., 0., 0.]), 'test_recall': array([0., 0., 0.]), 'test_f1': array([0., 0., 0.])}\n",
      "10^  -1\n",
      "{'fit_time': array([28.54164743, 31.18261766, 29.58090186]), 'score_time': array([35.3474865 , 37.23557043, 36.06766534]), 'test_precision': array([0., 0., 0.]), 'test_recall': array([0., 0., 0.]), 'test_f1': array([0., 0., 0.])}\n",
      "10^  0\n",
      "{'fit_time': array([47.36631751, 43.92255473, 46.98736548]), 'score_time': array([77.40060091, 77.47939205, 79.45211124]), 'test_precision': array([0., 0., 0.]), 'test_recall': array([0., 0., 0.]), 'test_f1': array([0., 0., 0.])}\n",
      "10^  1\n",
      "{'fit_time': array([61.96228385, 67.73787212, 73.84454417]), 'score_time': array([88.94240308, 85.18446016, 89.5538857 ]), 'test_precision': array([0., 0., 0.]), 'test_recall': array([0., 0., 0.]), 'test_f1': array([0., 0., 0.])}\n",
      "10^  2\n",
      "{'fit_time': array([55.65832782, 55.1536901 , 57.67789936]), 'score_time': array([65.71727777, 65.06797099, 68.01114154]), 'test_precision': array([0.5, 0. , 0. ]), 'test_recall': array([0.00564972, 0.        , 0.        ]), 'test_f1': array([0.01117318, 0.        , 0.        ])}\n",
      "10^  3\n",
      "{'fit_time': array([60.13720608, 59.33235097, 61.26920629]), 'score_time': array([83.81150246, 82.04330373, 85.57521725]), 'test_precision': array([0.39285714, 0.44444444, 0.48148148]), 'test_recall': array([0.06214689, 0.06779661, 0.07386364]), 'test_f1': array([0.10731707, 0.11764706, 0.12807882])}\n",
      "10^  4\n",
      "{'fit_time': array([70.92520976, 68.9106307 , 71.60834599]), 'score_time': array([93.4669888 , 90.5524354 , 94.04144597]), 'test_precision': array([0.33333333, 0.42222222, 0.36363636]), 'test_recall': array([0.07909605, 0.10734463, 0.11363636]), 'test_f1': array([0.12785388, 0.17117117, 0.17316017])}\n"
     ]
    }
   ],
   "source": [
    "print(\"Bush rbf pca = 1500\\n\")\n",
    "for i in range(10):\n",
    "    svc = SVC(C = 10**(i-5),kernel='poly')\n",
    "    print(\"10^ \",i-5)\n",
    "    svc_st_cv_results = cross_validate(svc,X1,y_bush,cv=StratifiedKFold(n_splits=3,shuffle=True,random_state=3243),scoring=('precision','recall','f1'),return_train_score=False,n_jobs=-1)\n",
    "    print(svc_st_cv_results)"
   ]
  },
  {
   "cell_type": "code",
   "execution_count": 12,
   "metadata": {},
   "outputs": [
    {
     "data": {
      "text/plain": [
       "{'fit_time': array([12.34393287, 11.0092845 , 11.05972958]),\n",
       " 'score_time': array([13.05108976, 11.74315977, 12.72191119]),\n",
       " 'test_precision': array([0.66666667, 0.875     , 0.75      ]),\n",
       " 'test_recall': array([0.44444444, 0.41176471, 0.35294118]),\n",
       " 'test_f1': array([0.53333333, 0.56      , 0.48      ])}"
      ]
     },
     "execution_count": 12,
     "metadata": {},
     "output_type": "execute_result"
    }
   ],
   "source": [
    "svc_st_cv_results"
   ]
  }
 ],
 "metadata": {
  "kernelspec": {
   "display_name": "Python 3",
   "language": "python",
   "name": "python3"
  },
  "language_info": {
   "codemirror_mode": {
    "name": "ipython",
    "version": 3
   },
   "file_extension": ".py",
   "mimetype": "text/x-python",
   "name": "python",
   "nbconvert_exporter": "python",
   "pygments_lexer": "ipython3",
   "version": "3.7.1"
  }
 },
 "nbformat": 4,
 "nbformat_minor": 2
}
