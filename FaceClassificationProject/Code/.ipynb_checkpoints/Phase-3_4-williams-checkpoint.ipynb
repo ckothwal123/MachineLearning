{
 "cells": [
  {
   "cell_type": "markdown",
   "metadata": {},
   "source": [
    "### Serena Williams\n",
    "## Phase 3 - Implementing convolutional neural network\n",
    "## Phase 4 - Use transfer learning to use pre-trained weights as initializations"
   ]
  },
  {
   "cell_type": "code",
   "execution_count": 1,
   "metadata": {},
   "outputs": [
    {
     "name": "stderr",
     "output_type": "stream",
     "text": [
      "Using TensorFlow backend.\n"
     ]
    }
   ],
   "source": [
    "import pandas as pd\n",
    "import numpy as np\n",
    "import matplotlib.pyplot as plt\n",
    "import tensorflow as tf\n",
    "import keras\n",
    "\n",
    "\n",
    "from keras.models import Sequential\n",
    "from keras.layers import Dense, Conv2D, Flatten, MaxPooling2D\n",
    "\n",
    "from sklearn.model_selection import train_test_split\n",
    "\n",
    "from sklearn.metrics import confusion_matrix, f1_score, precision_score, recall_score\n",
    "from keras.models import load_model\n",
    "from keras.models import Model"
   ]
  },
  {
   "cell_type": "code",
   "execution_count": 2,
   "metadata": {},
   "outputs": [
    {
     "name": "stdout",
     "output_type": "stream",
     "text": [
      "(13233, 4096)\n"
     ]
    }
   ],
   "source": [
    "X = pd.read_csv(\"X.csv\", sep=' ', header=None, dtype=float)\n",
    "X = X.values\n",
    "print(X.shape)"
   ]
  },
  {
   "cell_type": "code",
   "execution_count": 3,
   "metadata": {},
   "outputs": [],
   "source": [
    "#reshaping the array\n",
    "len(X)\n",
    "X1 = np.zeros((13233,64,64))\n",
    "for i in range(len(X)):\n",
    "    X1[i] = X[i].reshape(64,64)"
   ]
  },
  {
   "cell_type": "code",
   "execution_count": 4,
   "metadata": {},
   "outputs": [],
   "source": [
    "y = pd.read_csv(\"y_bush_vs_others.csv\", header=None)\n",
    "y_bush = y.values.ravel()\n",
    "y = pd.read_csv(\"y_williams_vs_others.csv\", header=None)\n",
    "y_williams = y.values.ravel()"
   ]
  },
  {
   "cell_type": "code",
   "execution_count": 5,
   "metadata": {},
   "outputs": [
    {
     "data": {
      "text/plain": [
       "52"
      ]
     },
     "execution_count": 5,
     "metadata": {},
     "output_type": "execute_result"
    }
   ],
   "source": [
    "np.sum(y_williams)"
   ]
  },
  {
   "cell_type": "code",
   "execution_count": 6,
   "metadata": {},
   "outputs": [
    {
     "name": "stdout",
     "output_type": "stream",
     "text": [
      "(13233, 64, 64) (13233,) (13233,)\n"
     ]
    }
   ],
   "source": [
    "print(X1.shape,y_bush.shape,y_williams.shape)"
   ]
  },
  {
   "cell_type": "code",
   "execution_count": 7,
   "metadata": {},
   "outputs": [
    {
     "name": "stdout",
     "output_type": "stream",
     "text": [
      "(8822, 64, 64, 1) (8822,) (4411, 64, 64, 1)\n"
     ]
    }
   ],
   "source": [
    "seed1 = 3243\n",
    "X_train, X_test, y_train, y_test = train_test_split(X1, y_williams, test_size = 1./3, random_state = seed1, shuffle = True)\n",
    "X_train = X_train.reshape(8822,64,64,1)\n",
    "X_test = X_test.reshape(4411,64,64,1)\n",
    "print(X_train.shape,y_train.shape,X_test.shape)\n",
    "# X_test = X_test.reshape(10000,28,28,1)"
   ]
  },
  {
   "cell_type": "code",
   "execution_count": 8,
   "metadata": {},
   "outputs": [
    {
     "data": {
      "text/plain": [
       "20"
      ]
     },
     "execution_count": 8,
     "metadata": {},
     "output_type": "execute_result"
    }
   ],
   "source": [
    "np.sum(y_test)"
   ]
  },
  {
   "cell_type": "code",
   "execution_count": 88,
   "metadata": {},
   "outputs": [],
   "source": [
    "#Keras model \n",
    "model = Sequential()\n",
    "model.add(Conv2D(32, kernel_size=(3, 3), strides=(1, 1),\n",
    "                 activation='relu',\n",
    "                 input_shape=(64, 64, 1)))\n",
    "model.add(MaxPooling2D(pool_size=(2, 2), strides=(2, 2)))\n",
    "# model.add(Conv2D(64, (5, 5), activation='relu'))\n",
    "# model.add(MaxPooling2D(pool_size=(2, 2)))\n",
    "model.add(Flatten())\n",
    "# model.add(Dense(128, activation='relu'))\n",
    "model.add(Dense(1, activation='sigmoid'))"
   ]
  },
  {
   "cell_type": "markdown",
   "metadata": {},
   "source": [
    "### Loading the pre-trained model"
   ]
  },
  {
   "cell_type": "code",
   "execution_count": 23,
   "metadata": {},
   "outputs": [],
   "source": [
    "model = load_model('tf_model.model')"
   ]
  },
  {
   "cell_type": "code",
   "execution_count": 98,
   "metadata": {},
   "outputs": [
    {
     "name": "stdout",
     "output_type": "stream",
     "text": [
      "______________________________________________________________________________________________________________________________________________________\n",
      "Layer (type)                                                       Output Shape                                                Param #                \n",
      "======================================================================================================================================================\n",
      "conv2d_5 (Conv2D)                                                  (None, 64, 64, 8)                                           80                     \n",
      "______________________________________________________________________________________________________________________________________________________\n",
      "max_pooling2d_5 (MaxPooling2D)                                     (None, 32, 32, 8)                                           0                      \n",
      "______________________________________________________________________________________________________________________________________________________\n",
      "conv2d_6 (Conv2D)                                                  (None, 32, 32, 16)                                          1168                   \n",
      "______________________________________________________________________________________________________________________________________________________\n",
      "max_pooling2d_6 (MaxPooling2D)                                     (None, 16, 16, 16)                                          0                      \n",
      "______________________________________________________________________________________________________________________________________________________\n",
      "conv2d_7 (Conv2D)                                                  (None, 16, 16, 32)                                          4640                   \n",
      "______________________________________________________________________________________________________________________________________________________\n",
      "max_pooling2d_7 (MaxPooling2D)                                     (None, 8, 8, 32)                                            0                      \n",
      "______________________________________________________________________________________________________________________________________________________\n",
      "conv2d_8 (Conv2D)                                                  (None, 8, 8, 64)                                            18496                  \n",
      "______________________________________________________________________________________________________________________________________________________\n",
      "max_pooling2d_8 (MaxPooling2D)                                     (None, 4, 4, 64)                                            0                      \n",
      "______________________________________________________________________________________________________________________________________________________\n",
      "flatten_2 (Flatten)                                                (None, 1024)                                                0                      \n",
      "______________________________________________________________________________________________________________________________________________________\n",
      "dropout_2 (Dropout)                                                (None, 1024)                                                0                      \n",
      "______________________________________________________________________________________________________________________________________________________\n",
      "dense_3 (Dense)                                                    (None, 100)                                                 102500                 \n",
      "______________________________________________________________________________________________________________________________________________________\n",
      "dense_4 (Dense)                                                    (None, 1)                                                   101                    \n",
      "======================================================================================================================================================\n",
      "Total params: 126,985\n",
      "Trainable params: 126,985\n",
      "Non-trainable params: 0\n",
      "______________________________________________________________________________________________________________________________________________________\n",
      "______________________________________________________________________________________________________________________________________________________\n",
      "Layer (type)                                                       Output Shape                                                Param #                \n",
      "======================================================================================================================================================\n",
      "conv2d_5 (Conv2D)                                                  (None, 64, 64, 8)                                           80                     \n",
      "______________________________________________________________________________________________________________________________________________________\n",
      "max_pooling2d_5 (MaxPooling2D)                                     (None, 32, 32, 8)                                           0                      \n",
      "______________________________________________________________________________________________________________________________________________________\n",
      "conv2d_6 (Conv2D)                                                  (None, 32, 32, 16)                                          1168                   \n",
      "______________________________________________________________________________________________________________________________________________________\n",
      "max_pooling2d_6 (MaxPooling2D)                                     (None, 16, 16, 16)                                          0                      \n",
      "______________________________________________________________________________________________________________________________________________________\n",
      "conv2d_7 (Conv2D)                                                  (None, 16, 16, 32)                                          4640                   \n",
      "______________________________________________________________________________________________________________________________________________________\n",
      "max_pooling2d_7 (MaxPooling2D)                                     (None, 8, 8, 32)                                            0                      \n",
      "______________________________________________________________________________________________________________________________________________________\n",
      "conv2d_8 (Conv2D)                                                  (None, 8, 8, 64)                                            18496                  \n",
      "______________________________________________________________________________________________________________________________________________________\n",
      "max_pooling2d_8 (MaxPooling2D)                                     (None, 4, 4, 64)                                            0                      \n",
      "______________________________________________________________________________________________________________________________________________________\n",
      "flatten_2 (Flatten)                                                (None, 1024)                                                0                      \n",
      "______________________________________________________________________________________________________________________________________________________\n",
      "dropout_2 (Dropout)                                                (None, 1024)                                                0                      \n",
      "______________________________________________________________________________________________________________________________________________________\n",
      "dense_3 (Dense)                                                    (None, 100)                                                 102500                 \n",
      "______________________________________________________________________________________________________________________________________________________\n",
      "dense_4 (Dense)                                                    (None, 1)                                                   101                    \n",
      "======================================================================================================================================================\n",
      "Total params: 126,985\n",
      "Trainable params: 126,985\n",
      "Non-trainable params: 0\n",
      "______________________________________________________________________________________________________________________________________________________\n",
      "______________________________________________________________________________________________________________________________________________________\n",
      "Layer (type)                                                       Output Shape                                                Param #                \n",
      "======================================================================================================================================================\n",
      "conv2d_5_input (InputLayer)                                        (None, 64, 64, 1)                                           0                      \n",
      "______________________________________________________________________________________________________________________________________________________\n",
      "conv2d_5 (Conv2D)                                                  (None, 64, 64, 8)                                           80                     \n",
      "______________________________________________________________________________________________________________________________________________________\n",
      "max_pooling2d_5 (MaxPooling2D)                                     (None, 32, 32, 8)                                           0                      \n",
      "______________________________________________________________________________________________________________________________________________________\n",
      "conv2d_6 (Conv2D)                                                  (None, 32, 32, 16)                                          1168                   \n",
      "______________________________________________________________________________________________________________________________________________________\n",
      "max_pooling2d_6 (MaxPooling2D)                                     (None, 16, 16, 16)                                          0                      \n",
      "______________________________________________________________________________________________________________________________________________________\n",
      "conv2d_7 (Conv2D)                                                  (None, 16, 16, 32)                                          4640                   \n",
      "______________________________________________________________________________________________________________________________________________________\n",
      "max_pooling2d_7 (MaxPooling2D)                                     (None, 8, 8, 32)                                            0                      \n",
      "______________________________________________________________________________________________________________________________________________________\n",
      "conv2d_8 (Conv2D)                                                  (None, 8, 8, 64)                                            18496                  \n",
      "______________________________________________________________________________________________________________________________________________________\n",
      "max_pooling2d_8 (MaxPooling2D)                                     (None, 4, 4, 64)                                            0                      \n",
      "______________________________________________________________________________________________________________________________________________________\n",
      "flatten_2 (Flatten)                                                (None, 1024)                                                0                      \n",
      "______________________________________________________________________________________________________________________________________________________\n",
      "dropout_2 (Dropout)                                                (None, 1024)                                                0                      \n",
      "______________________________________________________________________________________________________________________________________________________\n",
      "dense_3 (Dense)                                                    (None, 100)                                                 102500                 \n",
      "______________________________________________________________________________________________________________________________________________________\n",
      "dense_4 (Dense)                                                    (None, 1)                                                   101                    \n",
      "======================================================================================================================================================\n",
      "Total params: 126,985\n",
      "Trainable params: 126,985\n",
      "Non-trainable params: 0\n",
      "______________________________________________________________________________________________________________________________________________________\n"
     ]
    }
   ],
   "source": [
    "model.input\n",
    "\n",
    "model.summary(line_length=150)\n",
    "\n",
    "model.layers.pop()\n",
    "model.layers.pop()\n",
    "\n",
    "model.summary(line_length=150)\n",
    "\n",
    "inp = model.input\n",
    "out =model.layers[-1].output\n",
    "\n",
    "model2 = Model(inp, out)  # create a new model which doesn't have the last two layers in VGG16\n",
    "model2.summary(line_length=150)"
   ]
  },
  {
   "cell_type": "code",
   "execution_count": 99,
   "metadata": {},
   "outputs": [
    {
     "data": {
      "text/plain": [
       "[<keras.layers.convolutional.Conv2D at 0x1caf390f8d0>,\n",
       " <keras.layers.pooling.MaxPooling2D at 0x1caf390fd30>,\n",
       " <keras.layers.convolutional.Conv2D at 0x1caf37b5dd8>,\n",
       " <keras.layers.pooling.MaxPooling2D at 0x1caf37d1630>,\n",
       " <keras.layers.convolutional.Conv2D at 0x1caf37d1240>,\n",
       " <keras.layers.pooling.MaxPooling2D at 0x1caf37eed30>,\n",
       " <keras.layers.convolutional.Conv2D at 0x1caf390fb70>,\n",
       " <keras.layers.pooling.MaxPooling2D at 0x1caf380c6d8>,\n",
       " <keras.layers.core.Flatten at 0x1caf382a240>,\n",
       " <keras.layers.core.Dropout at 0x1caf382ada0>,\n",
       " <keras.layers.core.Dense at 0x1caf382ab00>,\n",
       " <keras.layers.core.Dense at 0x1caf37ee630>]"
      ]
     },
     "execution_count": 99,
     "metadata": {},
     "output_type": "execute_result"
    }
   ],
   "source": [
    "model.layers"
   ]
  },
  {
   "cell_type": "code",
   "execution_count": 25,
   "metadata": {},
   "outputs": [],
   "source": [
    "for layer in model.layers[2:]:\n",
    "    layer.trainable = False"
   ]
  },
  {
   "cell_type": "code",
   "execution_count": 26,
   "metadata": {},
   "outputs": [
    {
     "data": {
      "text/plain": [
       "[<keras.layers.convolutional.Conv2D at 0x21d8c112630>,\n",
       " <keras.layers.pooling.MaxPooling2D at 0x21d8c124eb8>,\n",
       " <keras.layers.convolutional.Conv2D at 0x21d8c112438>,\n",
       " <keras.layers.pooling.MaxPooling2D at 0x21d8c124ac8>,\n",
       " <keras.layers.convolutional.Conv2D at 0x21d8c15a128>,\n",
       " <keras.layers.pooling.MaxPooling2D at 0x21d8c177cf8>,\n",
       " <keras.layers.core.Flatten at 0x21d8c1429b0>,\n",
       " <keras.layers.core.Dropout at 0x21d8c198710>,\n",
       " <keras.layers.core.Dense at 0x21d8c1986d8>,\n",
       " <keras.layers.core.Dense at 0x21d8c7e5ba8>]"
      ]
     },
     "execution_count": 26,
     "metadata": {},
     "output_type": "execute_result"
    }
   ],
   "source": [
    "model.layers[2:]"
   ]
  },
  {
   "cell_type": "code",
   "execution_count": 27,
   "metadata": {},
   "outputs": [
    {
     "name": "stdout",
     "output_type": "stream",
     "text": [
      "Epoch 1/20\n",
      "8822/8822 [==============================] - 2s 220us/step - loss: 0.0540 - acc: 0.9841\n",
      "Epoch 2/20\n",
      "8822/8822 [==============================] - 2s 182us/step - loss: 0.0241 - acc: 0.9965\n",
      "Epoch 3/20\n",
      "8822/8822 [==============================] - 2s 183us/step - loss: 0.0232 - acc: 0.9961\n",
      "Epoch 4/20\n",
      "8822/8822 [==============================] - 2s 181us/step - loss: 0.0239 - acc: 0.9963\n",
      "Epoch 5/20\n",
      "8822/8822 [==============================] - 2s 182us/step - loss: 0.0212 - acc: 0.9963 1s \n",
      "Epoch 6/20\n",
      "8822/8822 [==============================] - 2s 180us/step - loss: 0.0220 - acc: 0.9966\n",
      "Epoch 7/20\n",
      "8822/8822 [==============================] - 2s 182us/step - loss: 0.0243 - acc: 0.9959\n",
      "Epoch 8/20\n",
      "8822/8822 [==============================] - 2s 181us/step - loss: 0.0245 - acc: 0.9960\n",
      "Epoch 9/20\n",
      "8822/8822 [==============================] - 2s 181us/step - loss: 0.0217 - acc: 0.9961\n",
      "Epoch 10/20\n",
      "8822/8822 [==============================] - 2s 180us/step - loss: 0.0233 - acc: 0.9961 1\n",
      "Epoch 11/20\n",
      "8822/8822 [==============================] - 2s 181us/step - loss: 0.0228 - acc: 0.9960 0s - loss: 0.02\n",
      "Epoch 12/20\n",
      "8822/8822 [==============================] - 2s 181us/step - loss: 0.0210 - acc: 0.9958 1s\n",
      "Epoch 13/20\n",
      "8822/8822 [==============================] - 2s 181us/step - loss: 0.0214 - acc: 0.9958 1\n",
      "Epoch 14/20\n",
      "8822/8822 [==============================] - 2s 182us/step - loss: 0.0222 - acc: 0.9961\n",
      "Epoch 15/20\n",
      "8822/8822 [==============================] - 2s 181us/step - loss: 0.0221 - acc: 0.9960\n",
      "Epoch 16/20\n",
      "8822/8822 [==============================] - 2s 196us/step - loss: 0.0218 - acc: 0.9961\n",
      "Epoch 17/20\n",
      "8822/8822 [==============================] - 2s 185us/step - loss: 0.0217 - acc: 0.9960 1\n",
      "Epoch 18/20\n",
      "8822/8822 [==============================] - 2s 180us/step - loss: 0.0229 - acc: 0.9963\n",
      "Epoch 19/20\n",
      "8822/8822 [==============================] - 2s 183us/step - loss: 0.0228 - acc: 0.9961\n",
      "Epoch 20/20\n",
      "8822/8822 [==============================] - 2s 182us/step - loss: 0.0215 - acc: 0.9960\n",
      "4411/4411 [==============================] - 1s 114us/step\n"
     ]
    }
   ],
   "source": [
    "model.compile(loss='binary_crossentropy', optimizer='adam', metrics=['accuracy'])\n",
    "history = model.fit(X_train, y_train, epochs=20)\n",
    "eval_metrics = model.evaluate(X_test, y_test)"
   ]
  },
  {
   "cell_type": "code",
   "execution_count": 13,
   "metadata": {},
   "outputs": [
    {
     "name": "stdout",
     "output_type": "stream",
     "text": [
      "[1.9433495320584113, 0.20788936755117227]\n"
     ]
    }
   ],
   "source": [
    "print(eval_metrics)"
   ]
  },
  {
   "cell_type": "code",
   "execution_count": 14,
   "metadata": {},
   "outputs": [
    {
     "data": {
      "text/plain": [
       "array([[0.9850698]], dtype=float32)"
      ]
     },
     "execution_count": 14,
     "metadata": {},
     "output_type": "execute_result"
    }
   ],
   "source": [
    "model.predict(X1[0].reshape(1,64,64,1))"
   ]
  },
  {
   "cell_type": "code",
   "execution_count": 15,
   "metadata": {},
   "outputs": [
    {
     "name": "stdout",
     "output_type": "stream",
     "text": [
      "_________________________________________________________________\n",
      "Layer (type)                 Output Shape              Param #   \n",
      "=================================================================\n",
      "conv2d_5 (Conv2D)            (None, 64, 64, 8)         80        \n",
      "_________________________________________________________________\n",
      "max_pooling2d_5 (MaxPooling2 (None, 32, 32, 8)         0         \n",
      "_________________________________________________________________\n",
      "conv2d_6 (Conv2D)            (None, 32, 32, 16)        1168      \n",
      "_________________________________________________________________\n",
      "max_pooling2d_6 (MaxPooling2 (None, 16, 16, 16)        0         \n",
      "_________________________________________________________________\n",
      "conv2d_7 (Conv2D)            (None, 16, 16, 32)        4640      \n",
      "_________________________________________________________________\n",
      "max_pooling2d_7 (MaxPooling2 (None, 8, 8, 32)          0         \n",
      "_________________________________________________________________\n",
      "conv2d_8 (Conv2D)            (None, 8, 8, 64)          18496     \n",
      "_________________________________________________________________\n",
      "max_pooling2d_8 (MaxPooling2 (None, 4, 4, 64)          0         \n",
      "_________________________________________________________________\n",
      "flatten_2 (Flatten)          (None, 1024)              0         \n",
      "_________________________________________________________________\n",
      "dropout_2 (Dropout)          (None, 1024)              0         \n",
      "_________________________________________________________________\n",
      "dense_3 (Dense)              (None, 100)               102500    \n",
      "_________________________________________________________________\n",
      "dense_4 (Dense)              (None, 1)                 101       \n",
      "=================================================================\n",
      "Total params: 126,985\n",
      "Trainable params: 0\n",
      "Non-trainable params: 126,985\n",
      "_________________________________________________________________\n"
     ]
    }
   ],
   "source": [
    "model.summary()"
   ]
  },
  {
   "cell_type": "code",
   "execution_count": 16,
   "metadata": {},
   "outputs": [
    {
     "name": "stdout",
     "output_type": "stream",
     "text": [
      "[[0]\n",
      " [0]\n",
      " [1]\n",
      " ...\n",
      " [0]\n",
      " [1]\n",
      " [1]]\n"
     ]
    }
   ],
   "source": [
    "pred = model.predict_classes(X_test.reshape(4411,64,64,1))\n",
    "print(pred)"
   ]
  },
  {
   "cell_type": "code",
   "execution_count": 28,
   "metadata": {},
   "outputs": [],
   "source": [
    "pred = model.predict_classes(X_test.reshape(4411,64,64,1))\n",
    "pred_train = model.predict_classes(X_train.reshape(8822,64,64,1))"
   ]
  },
  {
   "cell_type": "code",
   "execution_count": 29,
   "metadata": {},
   "outputs": [
    {
     "name": "stdout",
     "output_type": "stream",
     "text": [
      "1 20\n",
      "0 32\n"
     ]
    }
   ],
   "source": [
    "print(np.sum(pred),np.sum(y_test))\n",
    "print(np.sum(pred_train),np.sum(y_train))"
   ]
  },
  {
   "cell_type": "code",
   "execution_count": 19,
   "metadata": {},
   "outputs": [
    {
     "name": "stdout",
     "output_type": "stream",
     "text": [
      "0.011318619128466326 1.0 0.005691519635742743\n"
     ]
    }
   ],
   "source": [
    "#Test F1\n",
    "val_f1 = f1_score(y_test, pred)\n",
    "val_recall = recall_score(y_test, pred)\n",
    "val_precision = precision_score(y_test, pred)\n",
    "print(val_f1,val_recall,val_precision)"
   ]
  },
  {
   "cell_type": "code",
   "execution_count": 117,
   "metadata": {},
   "outputs": [
    {
     "name": "stdout",
     "output_type": "stream",
     "text": [
      "0.896551724137931 0.8125 1.0\n"
     ]
    }
   ],
   "source": [
    "#Train f1\n",
    "val_f1 = f1_score(y_train, pred_train)\n",
    "val_recall = recall_score(y_train, pred_train)\n",
    "val_precision = precision_score(y_train, pred_train)\n",
    "print(val_f1,val_recall,val_precision)"
   ]
  },
  {
   "cell_type": "code",
   "execution_count": 118,
   "metadata": {},
   "outputs": [],
   "source": [
    "model.save(\"./phase 4/williams.model\")"
   ]
  },
  {
   "cell_type": "code",
   "execution_count": 22,
   "metadata": {},
   "outputs": [],
   "source": [
    "del model"
   ]
  }
 ],
 "metadata": {
  "kernelspec": {
   "display_name": "Python 3",
   "language": "python",
   "name": "python3"
  },
  "language_info": {
   "codemirror_mode": {
    "name": "ipython",
    "version": 3
   },
   "file_extension": ".py",
   "mimetype": "text/x-python",
   "name": "python",
   "nbconvert_exporter": "python",
   "pygments_lexer": "ipython3",
   "version": "3.7.1"
  }
 },
 "nbformat": 4,
 "nbformat_minor": 2
}
